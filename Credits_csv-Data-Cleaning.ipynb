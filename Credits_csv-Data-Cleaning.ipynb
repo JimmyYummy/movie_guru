{
 "cells": [
  {
   "cell_type": "code",
   "execution_count": 1,
   "metadata": {},
   "outputs": [],
   "source": [
    "import json\n",
    "import re"
   ]
  },
  {
   "cell_type": "code",
   "execution_count": 2,
   "metadata": {},
   "outputs": [
    {
     "name": "stdout",
     "output_type": "stream",
     "text": [
      "total number of lines: 45477\n"
     ]
    }
   ],
   "source": [
    "with open(\"credits.csv\") as credits:\n",
    "    print(\"total number of lines: \" + str(sum(1 for line in credits)))"
   ]
  },
  {
   "cell_type": "code",
   "execution_count": 3,
   "metadata": {},
   "outputs": [],
   "source": [
    "def raw_text_conv(raw_text):\n",
    "    text = raw_text.replace(\"None\", \"null\")\n",
    "    text = re.sub(r\"\\\"\\\"([^\\\\']*)\\\\'([^\\\\']*)\\\"\\\"\", r'@@\\1@@\\2@@', text)\n",
    "    text = re.sub(r\"\\\"\\\"([^\\\\']*)\\\\'([^\\\\']*)\\\\'([^\\\\']*)\\\\'([^\\\\']*)\\\"\\\"\", r'@@\\1@@\\2@@\\3@@\\4@@', text)\n",
    "    text = re.sub(\"\\\"\\\"([^']*)'([^']*)\\\"\\\"\", r\"'\\1@@\\2'\", text)\n",
    "    text = re.sub(\"\\\"\\\"([^']*)'([^']*)'([^']*)\\\"\\\"\", r\"'\\1@@\\2@@\\3'\", text)\n",
    "    text = re.sub(\"\\\"\\\"([^']*)'([^']*)'([^']*)'([^']*)\\\"\\\"\", r\"'\\1@@\\2@@\\3@@\\4'\", text)\n",
    "    text = re.sub(\"\\\"\\\"([^']*)'([^']*)'([^']*)'([^']*)'([^']*)\\\"\\\"\", r\"'\\1@@\\2@@\\3@@\\4@@\\5'\", text)\n",
    "    text = re.sub(\"\\\"\\\"([^']*)'([^']*)'([^']*)'([^']*)'([^']*)'([^']*)\\\"\\\"\", r\"'\\1@@\\2@@\\3@@\\4@@\\5@@\\6'\", text)\n",
    "    text = re.sub(\"\\\"\\\"([^']*)'([^']*)'([^']*)'([^']*)'([^']*)'([^']*)'([^']*)\\\"\\\"\", r\"'\\1@@\\2@@\\3@@\\4@@\\5@@\\6@@\\7'\", text)\n",
    "    text = re.sub(\"\\\"\\\"([^']*)'([^']*)'([^']*)'([^']*)'([^']*)'([^']*)'([^']*)'([^']*)\\\"\\\"\", r\"'\\1@@\\2@@\\3@@\\4@@\\5@@\\6@@\\7@@\\8'\", text)\n",
    "    text = re.sub(\"\\\"\\\"([^']*)'([^']*)'([^']*)'([^']*)'([^']*)'([^']*)'([^']*)'([^']*)'([^']*)\\\"\\\"\", r\"'\\1@@\\2@@\\3@@\\4@@\\5@@\\6@@\\7@@\\8@@\\9'\", text)\n",
    "    text = re.sub(\"\\\"\\\"([^\\\"]*)\\\"\\\"\", r\"@@\\1@@\",text)\n",
    "    text = text.replace(r\"\\'\", \"@@\")\n",
    "    text = text.replace(\"\\\"\", \"@@\")\n",
    "    text = re.sub(\"'([^']*)'\", r'\"\\1\"', text)\n",
    "    text = text.replace(\"@@\", \"'\")\n",
    "    text = text.replace(\"\\\\\", \"/\")\n",
    "    return text"
   ]
  },
  {
   "cell_type": "code",
   "execution_count": 4,
   "metadata": {},
   "outputs": [],
   "source": [
    "def process_casts(raw_casts, movie_id, cast_in, cast, cast_set):\n",
    "    if (len(raw_casts) < 3):\n",
    "        return\n",
    "    sql1 = 'INSERT INTO Cast_In(movie_id, cast_id, character) VALUES (\"{}\", \"{}\", \"{}\");\\n'\n",
    "    sql2 = 'INSERT INTO Cast(id, gender, name) VALUES (\"{}\", \"{}\", \"{}\");\\n'\n",
    "    # data cleaning\n",
    "    casts = raw_text_conv(raw_casts)\n",
    "    # convert the data into json format\n",
    "    try:\n",
    "        casts_js = json.loads(casts)\n",
    "    except json.JSONDecodeError as err:\n",
    "        return casts, err, raw_casts\n",
    "    for single_cast in casts_js:\n",
    "        # for Cast_In table movie_id cast_id, character\n",
    "        cast_in.write(sql1.format(movie_id, single_cast[\"cast_id\"], single_cast[\"character\"]))\n",
    "        # for the Cast table: name, gender, cast_id\n",
    "        if single_cast[\"cast_id\"] not in cast_set:\n",
    "            cast_set.add(single_cast[\"cast_id\"])\n",
    "            try: \n",
    "                cast.write(sql2.format(single_cast[\"cast_id\"], single_cast['gender'], single_cast['name']))\n",
    "            except KeyError as e:\n",
    "                print (single_cast)\n",
    "                raise e\n"
   ]
  },
  {
   "cell_type": "code",
   "execution_count": 5,
   "metadata": {},
   "outputs": [],
   "source": [
    "def process_crews(raw_crews, movie_id, crew_in, crew, crew_set):\n",
    "    if (len(raw_crews) < 3):\n",
    "        return\n",
    "    sql1 = 'INSERT INTO Crew_In(movie_id, crew_id, job) VALUES (\"{}\", \"{}\", \"{}\");\\n'\n",
    "    sql2 = 'INSERT INTO Crew(id, gender, name) VALUES (\"{}\", \"{}\", \"{}\");\\n'\n",
    "    crews = raw_text_conv(raw_crews)\n",
    "    try:\n",
    "        crews_js = json.loads(crews)\n",
    "    except json.JSONDecodeError as err:\n",
    "        return crews, err, raw_crews\n",
    "    for single_crew in crews_js:\n",
    "        #  movie_id cast_id, character - \n",
    "        crew_in.write(sql1.format(movie_id, single_crew[\"id\"], single_crew[\"job\"]))\n",
    "        # in a cast table: name, gender, id --- set\n",
    "        if single_crew[\"id\"] not in crew_set:\n",
    "            crew_set.add(single_crew[\"id\"])\n",
    "            try:\n",
    "                crew.write(sql2.format(single_crew[\"id\"], single_crew['gender'], single_crew['name']))\n",
    "            except KeyError as e:\n",
    "                print (single_crew)\n",
    "                raise e"
   ]
  },
  {
   "cell_type": "code",
   "execution_count": 6,
   "metadata": {},
   "outputs": [
    {
     "name": "stdout",
     "output_type": "stream",
     "text": [
      "done\n"
     ]
    }
   ],
   "source": [
    "cast_set = set()\n",
    "crew_set = set()\n",
    "cast_in = open(\"cast_in.sql\", \"w\")\n",
    "crew_in = open(\"crew_in.sql\", \"w\")\n",
    "cast = open(\"cast.sql\", \"w\")\n",
    "crew = open(\"crew.sql\", \"w\")\n",
    "line_num = 1\n",
    "with open(\"credits.csv\") as credits:\n",
    "    raw_line = credits.readline()\n",
    "    raw_line = credits.readline()\n",
    "    while raw_line:\n",
    "        line_num += 1\n",
    "        line = re.split(']\"?,', raw_line)\n",
    "        movie_id = line[2][:-1]\n",
    "        raw_casts = line[0][1:] + \"]\"\n",
    "        raw_crews = line[1][1:] + \"]\"\n",
    "        err = process_casts(raw_casts, movie_id, cast_in, cast, cast_set)\n",
    "        if (err):\n",
    "            raise err[1]\n",
    "        err = process_crews(raw_crews, movie_id, crew_in, crew, crew_set)\n",
    "        if (err):\n",
    "            raise err[1]\n",
    "        \n",
    "        raw_line = credits.readline()\n",
    "cast_in.close()\n",
    "crew_in.close()\n",
    "cast.close()\n",
    "crew.close()\n",
    "print(\"done\")"
   ]
  }
 ],
 "metadata": {
  "kernelspec": {
   "display_name": "Python 3",
   "language": "python",
   "name": "python3"
  },
  "language_info": {
   "codemirror_mode": {
    "name": "ipython",
    "version": 3
   },
   "file_extension": ".py",
   "mimetype": "text/x-python",
   "name": "python",
   "nbconvert_exporter": "python",
   "pygments_lexer": "ipython3",
   "version": "3.6.5"
  }
 },
 "nbformat": 4,
 "nbformat_minor": 2
}
